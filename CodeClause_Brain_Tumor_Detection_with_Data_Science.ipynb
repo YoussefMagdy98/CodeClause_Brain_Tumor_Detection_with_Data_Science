{
 "cells": [
  {
   "cell_type": "markdown",
   "id": "879b5789",
   "metadata": {},
   "source": [
    "# Project name: Brain tumor detection with data science\n",
    "\n",
    "## Data source: https://www.kaggle.com/datasets/sartajbhuvaji/brain-tumor-classification-mri"
   ]
  },
  {
   "cell_type": "markdown",
   "id": "46f7c3fe",
   "metadata": {},
   "source": [
    "# The model was built using Keras as follow"
   ]
  },
  {
   "cell_type": "code",
   "execution_count": 3,
   "id": "efcb4d47",
   "metadata": {},
   "outputs": [
    {
     "name": "stdout",
     "output_type": "stream",
     "text": [
      "Found 1217 files belonging to 2 classes.\n",
      "Found 220 files belonging to 2 classes.\n"
     ]
    }
   ],
   "source": [
    "# imports\n",
    "from tensorflow import keras\n",
    "from tensorflow.keras import layers\n",
    "from tensorflow.keras.layers.experimental import preprocessing\n",
    "import os, warnings\n",
    "import matplotlib.pyplot as plt\n",
    "from matplotlib import gridspec\n",
    "import numpy as np\n",
    "import tensorflow as tf\n",
    "from tensorflow.keras.preprocessing import image_dataset_from_directory\n",
    "\n",
    "# Reproducability\n",
    "def set_seed(seed=31415):\n",
    "    np.random.seed(seed)\n",
    "    tf.random.set_seed(seed)\n",
    "    os.environ['PYTHONHASHSEED'] = str(seed)\n",
    "    #os.environ['TF_DETERMINISTIC_OPS'] = '1'\n",
    "set_seed()\n",
    "\n",
    "# Set Matplotlib defaults\n",
    "plt.rc('figure', autolayout=True)\n",
    "plt.rc('axes', labelweight='bold', labelsize='large',\n",
    "       titleweight='bold', titlesize=18, titlepad=10)\n",
    "plt.rc('image', cmap='magma')\n",
    "warnings.filterwarnings(\"ignore\") # to clean up output cells\n",
    "\n",
    "\n",
    "# Load training and validation sets\n",
    "ds_train_ = image_dataset_from_directory(\n",
    "    'D:/CodeClause/brain_mri/train',\n",
    "    labels='inferred',\n",
    "    label_mode='binary',\n",
    "    image_size=[128, 128],\n",
    "    interpolation='nearest',\n",
    "    batch_size=64,\n",
    "    shuffle=True,\n",
    ")\n",
    "ds_valid_ = image_dataset_from_directory(\n",
    "    'D:/CodeClause/brain_mri/val',\n",
    "    labels='inferred',\n",
    "    label_mode='binary',\n",
    "    image_size=[128, 128],\n",
    "    interpolation='nearest',\n",
    "    batch_size=64,\n",
    "    shuffle=False,\n",
    ")\n",
    "\n",
    "# Data Pipeline\n",
    "def convert_to_float(image, label):\n",
    "    image = tf.image.convert_image_dtype(image, dtype=tf.float32)\n",
    "    return image, label\n",
    "\n",
    "AUTOTUNE = tf.data.experimental.AUTOTUNE\n",
    "ds_train = (\n",
    "    ds_train_\n",
    "    .map(convert_to_float)\n",
    "    .cache()\n",
    "    .prefetch(buffer_size=AUTOTUNE)\n",
    ")\n",
    "ds_valid = (\n",
    "    ds_valid_\n",
    "    .map(convert_to_float)\n",
    "    .cache()\n",
    "    .prefetch(buffer_size=AUTOTUNE)\n",
    ")\n"
   ]
  },
  {
   "cell_type": "code",
   "execution_count": 4,
   "id": "4f4c8f72",
   "metadata": {},
   "outputs": [],
   "source": [
    "# Define the model\n",
    "model = keras.Sequential([\n",
    "    layers.InputLayer(input_shape=[128, 128, 3]),\n",
    "    \n",
    "    # Data Augmentation\n",
    "    preprocessing.RandomRotation(factor=0.10),\n",
    "\n",
    "    # Block One\n",
    "    layers.BatchNormalization(renorm=True),\n",
    "    layers.Conv2D(filters=64, kernel_size=3, activation='relu', padding='same'),\n",
    "    layers.MaxPool2D(),\n",
    "\n",
    "    # Block Two\n",
    "    layers.BatchNormalization(renorm=True),\n",
    "    layers.Conv2D(filters=128, kernel_size=3, activation='relu', padding='same'),\n",
    "    layers.MaxPool2D(),\n",
    "\n",
    "    # Block Three\n",
    "    layers.BatchNormalization(renorm=True),\n",
    "    layers.Conv2D(filters=256, kernel_size=3, activation='relu', padding='same'),\n",
    "    layers.Conv2D(filters=256, kernel_size=3, activation='relu', padding='same'),\n",
    "    layers.MaxPool2D(),\n",
    "\n",
    "    # Head\n",
    "    layers.BatchNormalization(renorm=True),\n",
    "    layers.Flatten(),\n",
    "    layers.Dense(8, activation='relu'),\n",
    "    layers.Dense(1, activation='sigmoid'),\n",
    "])\n"
   ]
  },
  {
   "cell_type": "code",
   "execution_count": 5,
   "id": "4574f797",
   "metadata": {},
   "outputs": [
    {
     "name": "stdout",
     "output_type": "stream",
     "text": [
      "Epoch 1/50\n",
      "20/20 [==============================] - 246s 12s/step - loss: 0.6735 - binary_accuracy: 0.6565 - val_loss: 0.7274 - val_binary_accuracy: 0.5227\n",
      "Epoch 2/50\n",
      "20/20 [==============================] - 282s 14s/step - loss: 0.6231 - binary_accuracy: 0.6820 - val_loss: 0.8845 - val_binary_accuracy: 0.3045\n",
      "Epoch 3/50\n",
      "20/20 [==============================] - 263s 13s/step - loss: 0.5340 - binary_accuracy: 0.7124 - val_loss: 0.9261 - val_binary_accuracy: 0.3364\n",
      "Epoch 4/50\n",
      "20/20 [==============================] - 262s 13s/step - loss: 0.4045 - binary_accuracy: 0.8053 - val_loss: 0.7639 - val_binary_accuracy: 0.5545\n",
      "Epoch 5/50\n",
      "20/20 [==============================] - 260s 13s/step - loss: 0.3436 - binary_accuracy: 0.8299 - val_loss: 0.6707 - val_binary_accuracy: 0.7091\n",
      "Epoch 6/50\n",
      "20/20 [==============================] - 243s 12s/step - loss: 0.3257 - binary_accuracy: 0.8398 - val_loss: 0.8726 - val_binary_accuracy: 0.6182\n",
      "Epoch 7/50\n",
      "20/20 [==============================] - 285s 14s/step - loss: 0.2992 - binary_accuracy: 0.8513 - val_loss: 0.5885 - val_binary_accuracy: 0.7136\n",
      "Epoch 8/50\n",
      "20/20 [==============================] - 306s 15s/step - loss: 0.2800 - binary_accuracy: 0.8841 - val_loss: 1.1830 - val_binary_accuracy: 0.6182\n",
      "Epoch 9/50\n",
      "20/20 [==============================] - 292s 15s/step - loss: 0.2439 - binary_accuracy: 0.8965 - val_loss: 0.5934 - val_binary_accuracy: 0.7818\n",
      "Epoch 10/50\n",
      "20/20 [==============================] - 270s 14s/step - loss: 0.2468 - binary_accuracy: 0.8874 - val_loss: 0.5091 - val_binary_accuracy: 0.7864\n",
      "Epoch 11/50\n",
      "20/20 [==============================] - 258s 13s/step - loss: 0.2205 - binary_accuracy: 0.8899 - val_loss: 0.8103 - val_binary_accuracy: 0.7273\n",
      "Epoch 12/50\n",
      "20/20 [==============================] - 312s 16s/step - loss: 0.2874 - binary_accuracy: 0.8735 - val_loss: 0.6511 - val_binary_accuracy: 0.7455\n",
      "Epoch 13/50\n",
      "20/20 [==============================] - 321s 16s/step - loss: 0.2922 - binary_accuracy: 0.8644 - val_loss: 1.1131 - val_binary_accuracy: 0.6636\n",
      "Epoch 14/50\n",
      "20/20 [==============================] - 313s 15s/step - loss: 0.2166 - binary_accuracy: 0.8858 - val_loss: 0.4683 - val_binary_accuracy: 0.7909\n",
      "Epoch 15/50\n",
      "20/20 [==============================] - 297s 15s/step - loss: 0.1867 - binary_accuracy: 0.9071 - val_loss: 0.6135 - val_binary_accuracy: 0.8182\n",
      "Epoch 16/50\n",
      "20/20 [==============================] - 294s 15s/step - loss: 0.1671 - binary_accuracy: 0.9334 - val_loss: 0.6506 - val_binary_accuracy: 0.7227\n",
      "Epoch 17/50\n",
      "20/20 [==============================] - 292s 14s/step - loss: 0.1781 - binary_accuracy: 0.9203 - val_loss: 0.4966 - val_binary_accuracy: 0.8091\n",
      "Epoch 18/50\n",
      "20/20 [==============================] - 261s 13s/step - loss: 0.1447 - binary_accuracy: 0.9367 - val_loss: 0.3600 - val_binary_accuracy: 0.8409\n",
      "Epoch 19/50\n",
      "20/20 [==============================] - 278s 14s/step - loss: 0.1158 - binary_accuracy: 0.9425 - val_loss: 0.4816 - val_binary_accuracy: 0.7818\n",
      "Epoch 20/50\n",
      "20/20 [==============================] - 293s 15s/step - loss: 0.0917 - binary_accuracy: 0.9606 - val_loss: 0.3279 - val_binary_accuracy: 0.8227\n",
      "Epoch 21/50\n",
      "20/20 [==============================] - 284s 14s/step - loss: 0.0987 - binary_accuracy: 0.9589 - val_loss: 0.5593 - val_binary_accuracy: 0.7636\n",
      "Epoch 22/50\n",
      "20/20 [==============================] - 258s 13s/step - loss: 0.1237 - binary_accuracy: 0.9449 - val_loss: 0.3212 - val_binary_accuracy: 0.8500\n",
      "Epoch 23/50\n",
      "20/20 [==============================] - 247s 12s/step - loss: 0.0823 - binary_accuracy: 0.9606 - val_loss: 0.5125 - val_binary_accuracy: 0.7727\n",
      "Epoch 24/50\n",
      "20/20 [==============================] - 253s 13s/step - loss: 0.0669 - binary_accuracy: 0.9712 - val_loss: 0.3021 - val_binary_accuracy: 0.8500\n",
      "Epoch 25/50\n",
      "20/20 [==============================] - 222s 11s/step - loss: 0.0595 - binary_accuracy: 0.9696 - val_loss: 0.3210 - val_binary_accuracy: 0.8545\n",
      "Epoch 26/50\n",
      "20/20 [==============================] - 234s 11s/step - loss: 0.0497 - binary_accuracy: 0.9778 - val_loss: 0.2717 - val_binary_accuracy: 0.8773\n",
      "Epoch 27/50\n",
      "20/20 [==============================] - 248s 12s/step - loss: 0.0351 - binary_accuracy: 0.9844 - val_loss: 0.1972 - val_binary_accuracy: 0.9091\n",
      "Epoch 28/50\n",
      "20/20 [==============================] - 257s 13s/step - loss: 0.0415 - binary_accuracy: 0.9893 - val_loss: 0.1193 - val_binary_accuracy: 0.9636\n",
      "Epoch 29/50\n",
      "20/20 [==============================] - 280s 14s/step - loss: 0.0314 - binary_accuracy: 0.9893 - val_loss: 0.1287 - val_binary_accuracy: 0.9636\n",
      "Epoch 30/50\n",
      "20/20 [==============================] - 295s 15s/step - loss: 0.0281 - binary_accuracy: 0.9918 - val_loss: 0.1324 - val_binary_accuracy: 0.9455\n",
      "Epoch 31/50\n",
      "20/20 [==============================] - 303s 15s/step - loss: 0.0443 - binary_accuracy: 0.9836 - val_loss: 0.1123 - val_binary_accuracy: 0.9682\n",
      "Epoch 32/50\n",
      "20/20 [==============================] - 236s 12s/step - loss: 0.0288 - binary_accuracy: 0.9885 - val_loss: 0.1516 - val_binary_accuracy: 0.9545\n",
      "Epoch 33/50\n",
      "20/20 [==============================] - 240s 12s/step - loss: 0.0235 - binary_accuracy: 0.9901 - val_loss: 0.0912 - val_binary_accuracy: 0.9727\n",
      "Epoch 34/50\n",
      "20/20 [==============================] - 206s 10s/step - loss: 0.0288 - binary_accuracy: 0.9901 - val_loss: 0.0688 - val_binary_accuracy: 0.9818\n",
      "Epoch 35/50\n",
      "20/20 [==============================] - 232s 12s/step - loss: 0.0211 - binary_accuracy: 0.9942 - val_loss: 0.0692 - val_binary_accuracy: 0.9773\n",
      "Epoch 36/50\n",
      "20/20 [==============================] - 267s 13s/step - loss: 0.0206 - binary_accuracy: 0.9951 - val_loss: 0.0681 - val_binary_accuracy: 0.9773\n",
      "Epoch 37/50\n",
      "20/20 [==============================] - 283s 14s/step - loss: 0.0259 - binary_accuracy: 0.9942 - val_loss: 0.0635 - val_binary_accuracy: 0.9773\n",
      "Epoch 38/50\n",
      "20/20 [==============================] - 245s 12s/step - loss: 0.0235 - binary_accuracy: 0.9942 - val_loss: 0.1122 - val_binary_accuracy: 0.9636\n",
      "Epoch 39/50\n",
      "20/20 [==============================] - 238s 12s/step - loss: 0.0283 - binary_accuracy: 0.9910 - val_loss: 0.0611 - val_binary_accuracy: 0.9818\n",
      "Epoch 40/50\n",
      "20/20 [==============================] - 241s 12s/step - loss: 0.0156 - binary_accuracy: 0.9959 - val_loss: 0.0796 - val_binary_accuracy: 0.9773\n",
      "Epoch 41/50\n",
      "20/20 [==============================] - 256s 13s/step - loss: 0.0119 - binary_accuracy: 0.9967 - val_loss: 0.1341 - val_binary_accuracy: 0.9682\n",
      "Epoch 42/50\n",
      "20/20 [==============================] - 263s 13s/step - loss: 0.0157 - binary_accuracy: 0.9975 - val_loss: 0.1738 - val_binary_accuracy: 0.9455\n",
      "Epoch 43/50\n",
      "20/20 [==============================] - 225s 11s/step - loss: 0.0124 - binary_accuracy: 0.9951 - val_loss: 0.0888 - val_binary_accuracy: 0.9682\n",
      "Epoch 44/50\n",
      "20/20 [==============================] - 223s 11s/step - loss: 0.0088 - binary_accuracy: 0.9992 - val_loss: 0.0862 - val_binary_accuracy: 0.9818\n",
      "Epoch 45/50\n",
      "20/20 [==============================] - 219s 11s/step - loss: 0.0051 - binary_accuracy: 1.0000 - val_loss: 0.0612 - val_binary_accuracy: 0.9909\n",
      "Epoch 46/50\n",
      "20/20 [==============================] - 190s 10s/step - loss: 0.0069 - binary_accuracy: 0.9975 - val_loss: 0.0774 - val_binary_accuracy: 0.9818\n",
      "Epoch 47/50\n",
      "20/20 [==============================] - 208s 11s/step - loss: 0.0067 - binary_accuracy: 0.9992 - val_loss: 0.1321 - val_binary_accuracy: 0.9500\n",
      "Epoch 48/50\n",
      "20/20 [==============================] - 204s 10s/step - loss: 0.0067 - binary_accuracy: 0.9967 - val_loss: 0.0677 - val_binary_accuracy: 0.9909\n",
      "Epoch 49/50\n",
      "20/20 [==============================] - 216s 11s/step - loss: 0.0035 - binary_accuracy: 1.0000 - val_loss: 0.0982 - val_binary_accuracy: 0.9773\n",
      "Epoch 50/50\n",
      "20/20 [==============================] - 227s 11s/step - loss: 0.0034 - binary_accuracy: 1.0000 - val_loss: 0.0672 - val_binary_accuracy: 0.9909\n"
     ]
    },
    {
     "data": {
      "image/png": "[encoded data removed]",
      "text/plain": [
       "<Figure size 432x288 with 1 Axes>"
      ]
     },
     "metadata": {
      "needs_background": "light"
     },
     "output_type": "display_data"
    },
    {
     "data": {
      "image/png": "[encoded data removed]",
      "text/plain": [
       "<Figure size 432x288 with 1 Axes>"
      ]
     },
     "metadata": {
      "needs_background": "light"
     },
     "output_type": "display_data"
    }
   ],
   "source": [
    "optimizer = tf.keras.optimizers.Adam(epsilon=0.01)\n",
    "model.compile(\n",
    "    optimizer=optimizer,\n",
    "    loss='binary_crossentropy',\n",
    "    metrics=['binary_accuracy'],\n",
    ")\n",
    "\n",
    "history = model.fit(\n",
    "    ds_train,\n",
    "    validation_data=ds_valid,\n",
    "    epochs=50,\n",
    ")\n",
    "\n",
    "# Plot learning curves\n",
    "import pandas as pd\n",
    "history_frame = pd.DataFrame(history.history)\n",
    "history_frame.loc[:, ['loss', 'val_loss']].plot()\n",
    "history_frame.loc[:, ['binary_accuracy', 'val_binary_accuracy']].plot();"
   ]
  },
  {
   "cell_type": "code",
   "execution_count": 25,
   "id": "e158e427",
   "metadata": {},
   "outputs": [
    {
     "name": "stderr",
     "output_type": "stream",
     "text": [
      "WARNING:absl:Found untraced functions such as _jit_compiled_convolution_op, _jit_compiled_convolution_op, _jit_compiled_convolution_op, _jit_compiled_convolution_op, _update_step_xla while saving (showing 5 of 5). These functions will not be directly callable after loading.\n"
     ]
    },
    {
     "name": "stdout",
     "output_type": "stream",
     "text": [
      "INFO:tensorflow:Assets written to: D:/CodeClause/tumors_model\\assets\n"
     ]
    },
    {
     "name": "stderr",
     "output_type": "stream",
     "text": [
      "INFO:tensorflow:Assets written to: D:/CodeClause/tumors_model\\assets\n"
     ]
    }
   ],
   "source": [
    "# Saving the model\n",
    "from tensorflow.keras.models import Sequential, save_model, load_model\n",
    "filepath = 'D:/CodeClause/tumors_model'\n",
    "save_model(model, filepath)"
   ]
  }
 ],
 "metadata": {
  "kernelspec": {
   "display_name": "Python 3 (ipykernel)",
   "language": "python",
   "name": "python3"
  },
  "language_info": {
   "codemirror_mode": {
    "name": "ipython",
    "version": 3
   },
   "file_extension": ".py",
   "mimetype": "text/x-python",
   "name": "python",
   "nbconvert_exporter": "python",
   "pygments_lexer": "ipython3",
   "version": "3.10.4"
  }
 },
 "nbformat": 4,
 "nbformat_minor": 5
}
